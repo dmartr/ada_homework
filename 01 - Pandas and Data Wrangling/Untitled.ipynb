{
 "cells": [
  {
   "cell_type": "markdown",
   "metadata": {},
   "source": [
    "%latex\n",
    "\\documentclass[11pt]{article}\n",
    "\n",
    "\n",
    "\\usepackage{amsmath}\n",
    "\\usepackage{textcomp}\n",
    "\\usepackage[top=0.8in, bottom=0.8in, left=0.8in, right=0.8in]{geometry}\n",
    "% add other packages here<<\n",
    "\n",
    "% put your group number and names in the author field\n",
    "\\title{\\bf Exercise 2: A Reactive Agent for the Pickup and Delivery Problem}\n",
    "\\author{Group \\textnumero: Student 1, Student 2}\n",
    "\n",
    "% the report should not be longer than 3 pages\n",
    "\n",
    "\\begin{document}\n",
    "\\maketitle\n",
    "\n",
    "\\section{Problem Representation}\n",
    "\n",
    "\\subsection{Representation Description}\n",
    "% describe how you design the state representation, the possible actions, the reward table and the probability transition table\n",
    "\n",
    "\\subsection{Implementation Details}\n",
    "% describe the implementation details of the representations above and the implementation details of the reinforcement learning algorithm you implemented\n",
    "\n",
    "\\section{Results}\n",
    "% in this section, you describe several results from the experiments with your reactive agent\n",
    "\n",
    "\\subsection{Experiment 1: Discount factor}\n",
    "% the purpose of this experiment is to understand how the discount factor influences the result\n",
    "\n",
    "\\subsubsection{Setting}\n",
    "% you describe how you perform the experiment (you also need to specify the configuration used for the experiment)\n",
    "\n",
    "\\subsubsection{Observations}\n",
    "% you describe the experimental results and the conclusions you inferred from these results\n",
    "\n",
    "\\subsection{Experiment 2: Comparisons with dummy agents}\n",
    "% you compare the results of your agent with two dummy agents: the random agent that was already given in the starter files and another dummy agent that you define and create. You should report the results from the simulations using the topologies given in the starter files and optionally, additional topologies that you create.\n",
    "\n",
    "\\subsubsection{Setting}\n",
    "% you describe how you perform the experiment and you describe the dummy agent you created (you also need to specify the configuration used for the experiment)\n",
    "\n",
    "\\subsubsection{Observations}\n",
    "% elaborate on the observed results\n",
    "\n",
    "\\vdots\n",
    "\n",
    "\\subsection{Experiment n}\n",
    "% other experiments you would like to present\n",
    "\n",
    "\\subsubsection{Setting}\n",
    "\n",
    "\\subsubsection{Observations}\n",
    "\n",
    "\\end{document}"
   ]
  },
  {
   "cell_type": "code",
   "execution_count": null,
   "metadata": {
    "collapsed": true
   },
   "outputs": [],
   "source": []
  },
  {
   "cell_type": "code",
   "execution_count": null,
   "metadata": {
    "collapsed": true
   },
   "outputs": [],
   "source": []
  }
 ],
 "metadata": {
  "anaconda-cloud": {},
  "kernelspec": {
   "display_name": "Python [Root]",
   "language": "python",
   "name": "Python [Root]"
  },
  "language_info": {
   "codemirror_mode": {
    "name": "ipython",
    "version": 3
   },
   "file_extension": ".py",
   "mimetype": "text/x-python",
   "name": "python",
   "nbconvert_exporter": "python",
   "pygments_lexer": "ipython3",
   "version": "3.5.2"
  }
 },
 "nbformat": 4,
 "nbformat_minor": 0
}
