{
 "cells": [
  {
   "cell_type": "code",
   "execution_count": 66,
   "metadata": {
    "collapsed": true
   },
   "outputs": [],
   "source": [
    "import folium\n",
    "import pandas as pd\n",
    "import json\n",
    "import requests"
   ]
  },
  {
   "cell_type": "code",
   "execution_count": 113,
   "metadata": {
    "collapsed": false
   },
   "outputs": [
    {
     "name": "stdout",
     "output_type": "stream",
     "text": [
      "(63969, 14)\n",
      "(50988, 2)\n",
      "                                                          University  \\\n",
      "﻿\"Project Number\"                                                      \n",
      "4                                          Université de Genève - GE   \n",
      "6                                             Universität Basel - BS   \n",
      "8                                        Université de Fribourg - FR   \n",
      "9                                        Université de Fribourg - FR   \n",
      "10                                           Universität Zürich - ZH   \n",
      "11                                       Université de Lausanne - LA   \n",
      "13                                         Université de Genève - GE   \n",
      "14                                       Université de Fribourg - FR   \n",
      "18                                         Université de Genève - GE   \n",
      "19                                            Universität Basel - BS   \n",
      "20                                           Universität Zürich - ZH   \n",
      "21                                       Université de Fribourg - FR   \n",
      "23                                         Université de Genève - GE   \n",
      "25                                           Universität Zürich - ZH   \n",
      "27                                       Université de Lausanne - LA   \n",
      "28                                         Université de Genève - GE   \n",
      "30                                             Universität Bern - BE   \n",
      "32                                           Universität Zürich - ZH   \n",
      "33                                         Université de Genève - GE   \n",
      "38                                           Universität Zürich - ZH   \n",
      "39                 Eidg. Forschungsanstalt für Wald,Schnee,Land -...   \n",
      "42                                            Universität Basel - BS   \n",
      "44                                         Université de Genève - GE   \n",
      "48                                      Université de Neuchâtel - NE   \n",
      "49                                         Université de Genève - GE   \n",
      "50                                         Université de Genève - GE   \n",
      "54                                       Université de Fribourg - FR   \n",
      "55                                             Universität Bern - BE   \n",
      "56                                           Universität Zürich - ZH   \n",
      "57                                            Universität Basel - BS   \n",
      "...                                                              ...   \n",
      "168932                                             ETH Zürich - ETHZ   \n",
      "168934                                     Université de Genève - GE   \n",
      "168944                      Università della Svizzera italiana - USI   \n",
      "168954                                     Université de Genève - GE   \n",
      "168956                                   Université de Lausanne - LA   \n",
      "168979              Pädagogische Hochschule Nordwestschweiz - PHFHNW   \n",
      "168992                                       Universität Zürich - ZH   \n",
      "169097                                        Universität Basel - BS   \n",
      "169098                                        Universität Basel - BS   \n",
      "169100                                             ETH Zürich - ETHZ   \n",
      "169173                                       Universität Zürich - ZH   \n",
      "169174                                       Universität Zürich - ZH   \n",
      "169270                                   Université de Lausanne - LA   \n",
      "169317                                       Universität Zürich - ZH   \n",
      "169383                                   Université de Fribourg - FR   \n",
      "169720                                   Université de Fribourg - FR   \n",
      "170002                                         Universität Bern - BE   \n",
      "170351                                         Universität Bern - BE   \n",
      "170363                                     Université de Genève - GE   \n",
      "170364              Haute école pédagogique du canton de Vaud - HEPL   \n",
      "170414                                      Hochschule Luzern - HSLU   \n",
      "170813                                             ETH Zürich - ETHZ   \n",
      "170814                           Forschungsanstalten Agroscope - AGS   \n",
      "170815                                  Firmen/Privatwirtschaft - FP   \n",
      "170883                                        Universität Basel - BS   \n",
      "170953                                       Universität Zürich - ZH   \n",
      "171009                                   Université de Lausanne - LA   \n",
      "171113                            HES de Suisse occidentale - HES-SO   \n",
      "171114                        Zürcher Fachhochschule (ohne PH) - ZFH   \n",
      "171126                        Zürcher Fachhochschule (ohne PH) - ZFH   \n",
      "\n",
      "                  Approved Amount  \n",
      "﻿\"Project Number\"                  \n",
      "4                        41022.00  \n",
      "6                        52627.00  \n",
      "8                        53009.00  \n",
      "9                        25403.00  \n",
      "10                       47100.00  \n",
      "11                       25814.00  \n",
      "13                      360000.00  \n",
      "14                      153886.00  \n",
      "18                      116991.00  \n",
      "19                      112664.00  \n",
      "20                        5000.00  \n",
      "21                      204018.00  \n",
      "23                      149485.00  \n",
      "25                       83983.00  \n",
      "27                       14138.00  \n",
      "28                      164602.00  \n",
      "30                      147795.00  \n",
      "32                       24552.00  \n",
      "33                       44802.00  \n",
      "38                       20000.00  \n",
      "39                      445198.00  \n",
      "42                       19134.00  \n",
      "44                       13807.00  \n",
      "48                       51904.00  \n",
      "49                      462615.00  \n",
      "50                      143070.00  \n",
      "54                       63684.00  \n",
      "55                      154420.00  \n",
      "56                      117564.00  \n",
      "57                       64279.00  \n",
      "...                           ...  \n",
      "168932                   16000.00  \n",
      "168934                    4600.00  \n",
      "168944                  251554.00  \n",
      "168954                    5700.00  \n",
      "168956                   10000.00  \n",
      "168979                    7990.00  \n",
      "168992                   12416.00  \n",
      "169097                    1600.00  \n",
      "169098                    3200.00  \n",
      "169100                  120000.00  \n",
      "169173                    6300.00  \n",
      "169174                    1500.00  \n",
      "169270                   11782.00  \n",
      "169317                    2600.00  \n",
      "169383                    7700.00  \n",
      "169720                    2500.00  \n",
      "170002                    5900.00  \n",
      "170351                    7500.00  \n",
      "170363                    3000.00  \n",
      "170364                    3600.00  \n",
      "170414                    1898.00  \n",
      "170813                   99952.00  \n",
      "170814                   98040.00  \n",
      "170815                  100000.00  \n",
      "170883                   10030.00  \n",
      "170953                   10600.00  \n",
      "171009                    2515.00  \n",
      "171113                    3000.00  \n",
      "171114                    1000.00  \n",
      "171126                    2000.00  \n",
      "\n",
      "[46920 rows x 2 columns]\n"
     ]
    }
   ],
   "source": [
    "projects= r'P3_GrantExport.csv'\n",
    "state_data = pd.read_csv(projects, sep=';')\n",
    "state_data.set_index(state_data.columns[0], inplace=True)\n",
    "print(state_data.shape)\n",
    "state_data = state_data[['University', 'Approved Amount']]\n",
    "state_data.dropna(subset=['University'], inplace=True)\n",
    "print(state_data.shape)\n",
    "state_data = state_data[state_data['University'] != 'Nicht zuteilbar - NA'] #Nicht zuteilbar = NA University\n",
    "state_data = state_data[state_data['University'] != 'NPO (Biblioth., Museen, Verwalt.) - NPO'] #NPO = is not university\n",
    "print(state_data)"
   ]
  },
  {
   "cell_type": "code",
   "execution_count": 152,
   "metadata": {
    "collapsed": false
   },
   "outputs": [
    {
     "ename": "KeyError",
     "evalue": "'geonames'",
     "output_type": "error",
     "traceback": [
      "\u001b[0;31m---------------------------------------------------------------------------\u001b[0m",
      "\u001b[0;31mKeyError\u001b[0m                                  Traceback (most recent call last)",
      "\u001b[0;32m<ipython-input-152-ee6dd6439d65>\u001b[0m in \u001b[0;36m<module>\u001b[0;34m()\u001b[0m\n\u001b[1;32m     23\u001b[0m     \u001b[0;32mreturn\u001b[0m \u001b[0mdata\u001b[0m\u001b[0;34m\u001b[0m\u001b[0m\n\u001b[1;32m     24\u001b[0m \u001b[0;34m\u001b[0m\u001b[0m\n\u001b[0;32m---> 25\u001b[0;31m \u001b[0mprint\u001b[0m\u001b[0;34m(\u001b[0m\u001b[0msearch_cantons\u001b[0m\u001b[0;34m(\u001b[0m\u001b[0mstate_data\u001b[0m\u001b[0;34m)\u001b[0m\u001b[0;34m)\u001b[0m\u001b[0;34m\u001b[0m\u001b[0m\n\u001b[0m",
      "\u001b[0;32m<ipython-input-152-ee6dd6439d65>\u001b[0m in \u001b[0;36msearch_cantons\u001b[0;34m(data)\u001b[0m\n\u001b[1;32m     14\u001b[0m     \u001b[0mdata\u001b[0m\u001b[0;34m[\u001b[0m\u001b[0;34m'Longitude'\u001b[0m\u001b[0;34m]\u001b[0m \u001b[0;34m=\u001b[0m \u001b[0;34m''\u001b[0m\u001b[0;34m\u001b[0m\u001b[0m\n\u001b[1;32m     15\u001b[0m     \u001b[0;32mfor\u001b[0m \u001b[0mi\u001b[0m \u001b[0;32min\u001b[0m \u001b[0mrange\u001b[0m\u001b[0;34m(\u001b[0m\u001b[0mlen\u001b[0m\u001b[0;34m(\u001b[0m\u001b[0mdata\u001b[0m\u001b[0;34m)\u001b[0m\u001b[0;34m)\u001b[0m\u001b[0;34m:\u001b[0m\u001b[0;34m\u001b[0m\u001b[0m\n\u001b[0;32m---> 16\u001b[0;31m         \u001b[0mcanton\u001b[0m\u001b[0;34m,\u001b[0m \u001b[0mlat\u001b[0m\u001b[0;34m,\u001b[0m \u001b[0mlng\u001b[0m \u001b[0;34m=\u001b[0m \u001b[0msearchCantonGeoNames\u001b[0m\u001b[0;34m(\u001b[0m\u001b[0mdata\u001b[0m\u001b[0;34m[\u001b[0m\u001b[0;34m'University'\u001b[0m\u001b[0;34m]\u001b[0m\u001b[0;34m.\u001b[0m\u001b[0miloc\u001b[0m\u001b[0;34m[\u001b[0m\u001b[0mi\u001b[0m\u001b[0;34m]\u001b[0m\u001b[0;34m)\u001b[0m\u001b[0;34m\u001b[0m\u001b[0m\n\u001b[0m\u001b[1;32m     17\u001b[0m         \u001b[0mprint\u001b[0m\u001b[0;34m(\u001b[0m\u001b[0mdata\u001b[0m\u001b[0;34m[\u001b[0m\u001b[0;34m'University'\u001b[0m\u001b[0;34m]\u001b[0m\u001b[0;34m.\u001b[0m\u001b[0miloc\u001b[0m\u001b[0;34m[\u001b[0m\u001b[0mi\u001b[0m\u001b[0;34m]\u001b[0m\u001b[0;34m)\u001b[0m\u001b[0;34m\u001b[0m\u001b[0m\n\u001b[1;32m     18\u001b[0m         \u001b[0mdata\u001b[0m\u001b[0;34m[\u001b[0m\u001b[0;34m'Canton'\u001b[0m\u001b[0;34m]\u001b[0m\u001b[0;34m.\u001b[0m\u001b[0miloc\u001b[0m\u001b[0;34m[\u001b[0m\u001b[0mi\u001b[0m\u001b[0;34m]\u001b[0m \u001b[0;34m=\u001b[0m \u001b[0mcanton\u001b[0m\u001b[0;34m\u001b[0m\u001b[0m\n",
      "\u001b[0;32m<ipython-input-152-ee6dd6439d65>\u001b[0m in \u001b[0;36msearchCantonGeoNames\u001b[0;34m(university)\u001b[0m\n\u001b[1;32m      5\u001b[0m     \u001b[0mreq\u001b[0m \u001b[0;34m=\u001b[0m \u001b[0mrequests\u001b[0m\u001b[0;34m.\u001b[0m\u001b[0mget\u001b[0m\u001b[0;34m(\u001b[0m\u001b[0murl\u001b[0m\u001b[0;34m,\u001b[0m \u001b[0mparams\u001b[0m\u001b[0;34m=\u001b[0m\u001b[0mpayload\u001b[0m\u001b[0;34m)\u001b[0m\u001b[0;34m\u001b[0m\u001b[0m\n\u001b[1;32m      6\u001b[0m     \u001b[0mreq_json\u001b[0m \u001b[0;34m=\u001b[0m \u001b[0mjson\u001b[0m\u001b[0;34m.\u001b[0m\u001b[0mloads\u001b[0m\u001b[0;34m(\u001b[0m\u001b[0mreq\u001b[0m\u001b[0;34m.\u001b[0m\u001b[0mtext\u001b[0m\u001b[0;34m)\u001b[0m\u001b[0;34m\u001b[0m\u001b[0m\n\u001b[0;32m----> 7\u001b[0;31m     \u001b[0;32mif\u001b[0m \u001b[0mbool\u001b[0m\u001b[0;34m(\u001b[0m\u001b[0mreq_json\u001b[0m\u001b[0;34m[\u001b[0m\u001b[0;34m'geonames'\u001b[0m\u001b[0;34m]\u001b[0m\u001b[0;34m)\u001b[0m\u001b[0;34m:\u001b[0m\u001b[0;34m\u001b[0m\u001b[0m\n\u001b[0m\u001b[1;32m      8\u001b[0m         \u001b[0;32mreturn\u001b[0m \u001b[0mreq_json\u001b[0m\u001b[0;34m[\u001b[0m\u001b[0;34m'geonames'\u001b[0m\u001b[0;34m]\u001b[0m\u001b[0;34m[\u001b[0m\u001b[0;36m0\u001b[0m\u001b[0;34m]\u001b[0m\u001b[0;34m[\u001b[0m\u001b[0;34m'adminCode1'\u001b[0m\u001b[0;34m]\u001b[0m\u001b[0;34m,\u001b[0m \u001b[0mreq_json\u001b[0m\u001b[0;34m[\u001b[0m\u001b[0;34m'geonames'\u001b[0m\u001b[0;34m]\u001b[0m\u001b[0;34m[\u001b[0m\u001b[0;36m0\u001b[0m\u001b[0;34m]\u001b[0m\u001b[0;34m[\u001b[0m\u001b[0;34m'lat'\u001b[0m\u001b[0;34m]\u001b[0m\u001b[0;34m,\u001b[0m \u001b[0mreq_json\u001b[0m\u001b[0;34m[\u001b[0m\u001b[0;34m'geonames'\u001b[0m\u001b[0;34m]\u001b[0m\u001b[0;34m[\u001b[0m\u001b[0;36m0\u001b[0m\u001b[0;34m]\u001b[0m\u001b[0;34m[\u001b[0m\u001b[0;34m'lng'\u001b[0m\u001b[0;34m]\u001b[0m\u001b[0;34m\u001b[0m\u001b[0m\n\u001b[1;32m      9\u001b[0m     \u001b[0;32mreturn\u001b[0m \u001b[0;34m\"NaN\"\u001b[0m\u001b[0;34m,\u001b[0m \u001b[0;34m\"NaN\"\u001b[0m\u001b[0;34m,\u001b[0m \u001b[0;34m\"NaN\"\u001b[0m\u001b[0;34m\u001b[0m\u001b[0m\n",
      "\u001b[0;31mKeyError\u001b[0m: 'geonames'"
     ]
    }
   ],
   "source": [
    "def searchCantonGeoNames(university): #returns in which canton the university is in\n",
    "    name, acronym  = university.split(\" - \")\n",
    "    url = 'http://api.geonames.org/searchJSON?country=CH&maxRows=1&username=dmartr'\n",
    "    payload = {'q': university}\n",
    "    query = parse.quote(url,safe=':/&=?')\n",
    "    req = requests.get(url, params=payload)\n",
    "    req_json = json.loads(req.text)\n",
    "    if bool(req_json['geonames']):\n",
    "        return req_json['geonames'][0]['adminCode1'], req_json['geonames'][0]['lat'], req_json['geonames'][0]['lng']\n",
    "    return \"NaN\", \"NaN\", \"NaN\"\n",
    "    \n",
    "def search_cantons(data):\n",
    "    data['Canton'] = ''\n",
    "    data['Latitude'] = ''\n",
    "    data['Longitude'] = ''\n",
    "    for i in range(len(data)):\n",
    "        canton, lat, lng = searchCantonGeoNames(data['University'].iloc[i])\n",
    "        print(data['University'].iloc[i])\n",
    "        data['Canton'].iloc[i] = canton\n",
    "        data['Latitude'].iloc[i] = lat\n",
    "        data['Longitude'].iloc[i] = lng\n",
    "        print(data['Longitude'].iloc[i])\n",
    "    data = data[data['Canton'] != 'NaN'] \n",
    "    return data\n",
    "\n",
    "print(search_cantons(state_data))"
   ]
  },
  {
   "cell_type": "code",
   "execution_count": 121,
   "metadata": {
    "collapsed": false
   },
   "outputs": [
    {
     "ename": "IndexError",
     "evalue": "list index out of range",
     "output_type": "error",
     "traceback": [
      "\u001b[0;31m---------------------------------------------------------------------------\u001b[0m",
      "\u001b[0;31mIndexError\u001b[0m                                Traceback (most recent call last)",
      "\u001b[0;32m<ipython-input-121-a7fa3d61dced>\u001b[0m in \u001b[0;36m<module>\u001b[0;34m()\u001b[0m\n\u001b[1;32m      6\u001b[0m                 \u001b[0mgeo_path\u001b[0m\u001b[0;34m=\u001b[0m\u001b[0mch_geo\u001b[0m\u001b[0;34m,\u001b[0m\u001b[0;34m\u001b[0m\u001b[0m\n\u001b[1;32m      7\u001b[0m                 \u001b[0mfill_color\u001b[0m\u001b[0;34m=\u001b[0m\u001b[0;34m'YlGn'\u001b[0m\u001b[0;34m,\u001b[0m \u001b[0mfill_opacity\u001b[0m\u001b[0;34m=\u001b[0m\u001b[0;36m0.7\u001b[0m\u001b[0;34m,\u001b[0m \u001b[0mline_opacity\u001b[0m\u001b[0;34m=\u001b[0m\u001b[0;36m0.2\u001b[0m\u001b[0;34m,\u001b[0m\u001b[0;34m\u001b[0m\u001b[0m\n\u001b[0;32m----> 8\u001b[0;31m                 key_on='feature.id')\n\u001b[0m\u001b[1;32m      9\u001b[0m \u001b[0mmap\u001b[0m\u001b[0;34m.\u001b[0m\u001b[0msave\u001b[0m\u001b[0;34m(\u001b[0m\u001b[0;34m'ch-cantons.html'\u001b[0m\u001b[0;34m)\u001b[0m\u001b[0;34m\u001b[0m\u001b[0m\n",
      "\u001b[0;32m/Users/dmartr/anaconda/lib/python3.5/site-packages/folium/folium.py\u001b[0m in \u001b[0;36mchoropleth\u001b[0;34m(self, geo_path, geo_str, data_out, data, columns, key_on, threshold_scale, fill_color, fill_opacity, line_color, line_weight, line_opacity, legend_name, topojson, reset)\u001b[0m\n\u001b[1;32m    613\u001b[0m         \u001b[0;32mif\u001b[0m \u001b[0mhasattr\u001b[0m\u001b[0;34m(\u001b[0m\u001b[0mdata\u001b[0m\u001b[0;34m,\u001b[0m \u001b[0;34m'set_index'\u001b[0m\u001b[0;34m)\u001b[0m\u001b[0;34m:\u001b[0m\u001b[0;34m\u001b[0m\u001b[0m\n\u001b[1;32m    614\u001b[0m             \u001b[0;31m# This is a pd.DataFrame\u001b[0m\u001b[0;34m\u001b[0m\u001b[0;34m\u001b[0m\u001b[0m\n\u001b[0;32m--> 615\u001b[0;31m             \u001b[0mcolor_data\u001b[0m \u001b[0;34m=\u001b[0m \u001b[0mdata\u001b[0m\u001b[0;34m.\u001b[0m\u001b[0mset_index\u001b[0m\u001b[0;34m(\u001b[0m\u001b[0mcolumns\u001b[0m\u001b[0;34m[\u001b[0m\u001b[0;36m0\u001b[0m\u001b[0;34m]\u001b[0m\u001b[0;34m)\u001b[0m\u001b[0;34m[\u001b[0m\u001b[0mcolumns\u001b[0m\u001b[0;34m[\u001b[0m\u001b[0;36m1\u001b[0m\u001b[0;34m]\u001b[0m\u001b[0;34m]\u001b[0m\u001b[0;34m.\u001b[0m\u001b[0mto_dict\u001b[0m\u001b[0;34m(\u001b[0m\u001b[0;34m)\u001b[0m\u001b[0;34m\u001b[0m\u001b[0m\n\u001b[0m\u001b[1;32m    616\u001b[0m         \u001b[0;32melif\u001b[0m \u001b[0mhasattr\u001b[0m\u001b[0;34m(\u001b[0m\u001b[0mdata\u001b[0m\u001b[0;34m,\u001b[0m \u001b[0;34m'to_dict'\u001b[0m\u001b[0;34m)\u001b[0m\u001b[0;34m:\u001b[0m\u001b[0;34m\u001b[0m\u001b[0m\n\u001b[1;32m    617\u001b[0m             \u001b[0;31m# This is a pd.Series\u001b[0m\u001b[0;34m\u001b[0m\u001b[0;34m\u001b[0m\u001b[0m\n",
      "\u001b[0;31mIndexError\u001b[0m: list index out of range"
     ]
    }
   ],
   "source": [
    "cantonMap = pd.DataFrame({'Canton':['JU', 'ZH', 'BE', 'LU', 'SG', 'NE', 'VD', 'VS', 'GE', 'TI', \n",
    "                                 'SO', 'UR', 'OW', 'NW', 'SZ', 'GL', 'ZG', 'BL', 'BS', 'FR',\n",
    "                                'SH', 'AR', 'AI', 'GR', 'AG', 'TG']})\n",
    "\n",
    "ch_geo = r'ch-cantons.topojson.json'\n",
    "\n",
    "map = folium.Map(location=[46.82244,8.22410], zoom_start=8)\n",
    "map.choropleth(data=cantonMap, \n",
    "                columns=['Canton'], \n",
    "                geo_path=ch_geo,  \n",
    "                fill_color='YlGn', fill_opacity=0.7, line_opacity=0.2,\n",
    "                key_on='feature.id')\n",
    "map.save('ch-cantons.html')"
   ]
  },
  {
   "cell_type": "code",
   "execution_count": null,
   "metadata": {
    "collapsed": true
   },
   "outputs": [],
   "source": []
  }
 ],
 "metadata": {
  "kernelspec": {
   "display_name": "Python [Root]",
   "language": "python",
   "name": "Python [Root]"
  },
  "language_info": {
   "codemirror_mode": {
    "name": "ipython",
    "version": 3
   },
   "file_extension": ".py",
   "mimetype": "text/x-python",
   "name": "python",
   "nbconvert_exporter": "python",
   "pygments_lexer": "ipython3",
   "version": "3.5.2"
  }
 },
 "nbformat": 4,
 "nbformat_minor": 0
}
