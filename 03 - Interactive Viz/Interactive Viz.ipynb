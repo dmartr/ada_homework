{
 "cells": [
  {
   "cell_type": "code",
   "execution_count": 61,
   "metadata": {
    "collapsed": true
   },
   "outputs": [],
   "source": [
    "import folium\n",
    "import pandas as pd\n",
    "import json\n",
    "import requests\n",
    "from bs4 import BeautifulSoup\n",
    "from lxml import etree\n",
    "import requests\n",
    "from IPython.display import display, HTML\n",
    "import re"
   ]
  },
  {
   "cell_type": "code",
   "execution_count": 62,
   "metadata": {
    "collapsed": false
   },
   "outputs": [],
   "source": [
    "projects= r'P3_GrantExport.csv'\n",
    "state_data = pd.read_csv(projects, sep=';')\n",
    "state_data.set_index(state_data.columns[0], inplace=True)\n",
    "state_data = state_data[['University', 'Approved Amount']]\n",
    "state_data.dropna(subset=['University'], inplace=True)\n",
    "state_data = state_data[state_data['University'] != 'Nicht zuteilbar - NA'] #Nicht zuteilbar = NA University\n",
    "state_data = state_data[state_data['University'] != 'NPO (Biblioth., Museen, Verwalt.) - NPO'] #NPO = is not university"
   ]
  },
  {
   "cell_type": "code",
   "execution_count": 105,
   "metadata": {
    "collapsed": true
   },
   "outputs": [],
   "source": [
    "\n",
    "def getData(project_id):\n",
    "    url = 'http://p3.snf.ch'\n",
    "    url_project = url + '/project-' + str(project_id)\n",
    "    # We parse the response to analyze it \n",
    "    soup_project = BeautifulSoup(requests.request(\"GET\", url_project).text, 'html.parser')\n",
    "    id_institute = soup_project.find(id=\"ctl00_MainContent_urlInstitite\").get('href')\n",
    "    if id_institute is None:\n",
    "        return None\n",
    "    \n",
    "    url_institute = url + id_institute\n",
    "    \n",
    "    toSoup = requests.request(\"GET\", url_institute)\n",
    "    soup_institute = BeautifulSoup(toSoup.text, 'html5lib')\n",
    "    table = soup_institute.findAll('div', {'class': 'institute'})[0].findAll('td')[1].text\n",
    "    p = re.compile(\"CH-\\S{4}\")\n",
    "    match = p.search(table)\n",
    "    if match is None:\n",
    "        return None\n",
    "    postal_code = match.group(0)\n",
    "    return postal_code"
   ]
  },
  {
   "cell_type": "code",
   "execution_count": 106,
   "metadata": {
    "collapsed": false
   },
   "outputs": [],
   "source": [
    "def search_missing_cantons(UniCanton):\n",
    "    for i in range(len(UniCanton)):\n",
    "        if UniCanton['Canton'].iloc[i] == 'NaN':\n",
    "            query = getData(temp.index.values[i])\n",
    "            canton = searchCantonGeoNames(query)\n",
    "            UniCanton['Canton'].iloc[i] = canton\n",
    "    return UniCanton\n"
   ]
  },
  {
   "cell_type": "code",
   "execution_count": null,
   "metadata": {
    "collapsed": false
   },
   "outputs": [],
   "source": [
    "def searchCantonGeoNames(query1, query2=None): #returns in which canton the university is in\n",
    "    url = 'http://api.geonames.org/searchJSON?country=CH&maxRows=1&username=jnls'\n",
    "    payload = {'q': query1 }\n",
    "    req = requests.get(url, params=payload)\n",
    "    req_json = json.loads(req.text)\n",
    "    if req_json['totalResultsCount'] > 0:\n",
    "        return req_json['geonames'][0]['adminCode1']\n",
    "    elif req_json['totalResultsCount'] == 0 and query2 is not None:\n",
    "        payload = {'q': query2 }\n",
    "        req = requests.get(url, params=payload)\n",
    "        req_json = json.loads(req.text)\n",
    "        if req_json['totalResultsCount'] > 0:\n",
    "            return req_json['geonames'][0]['adminCode1']\n",
    "        else:\n",
    "            return \"NaN\"\n",
    "def search_cantons(data):\n",
    "    UniCanton = data['University'].drop_duplicates().to_frame()\n",
    "    UniCanton['Canton'] = ''\n",
    "    for i in range(len(UniCanton)):\n",
    "        query = UniCanton['University'].iloc[i].split(\" - \")\n",
    "        if len(query) > 1:\n",
    "            canton = searchCantonGeoNames(query[0], query[1])\n",
    "        else:\n",
    "            canton = searchCantonGeoNames(query[0])\n",
    "        UniCanton['Canton'].iloc[i] = canton\n",
    "    #data = data[data['Canton'] != 'NaN'] \n",
    "    return UniCanton\n",
    "\n",
    "temp = search_cantons(state_data)\n",
    "temp = search_missing_cantons(temp)\n",
    "temp"
   ]
  },
  {
   "cell_type": "code",
   "execution_count": null,
   "metadata": {
    "collapsed": false
   },
   "outputs": [],
   "source": [
    "temp.set_index(temp.University, inplace=True, drop=True)\n",
    "temp = temp.to_dict()['Canton']\n",
    "state_data['Canton'] = state_data['University'].map(temp)\n",
    "state_data.reset_index(drop=True, inplace=True)\n",
    "grants = state_data.drop('University', 1)\n",
    "grants['Approved Amount'] = grants['Approved Amount'].convert_objects(convert_numeric=True)\n",
    "grants_sum = grants.groupby(grants.Canton).sum()\n",
    "grant_canton = grants_sum['Approved Amount'].to_dict()\n"
   ]
  },
  {
   "cell_type": "code",
   "execution_count": 172,
   "metadata": {
    "collapsed": false
   },
   "outputs": [
    {
     "name": "stderr",
     "output_type": "stream",
     "text": [
      "/Users/dmartr/anaconda/lib/python3.5/site-packages/ipykernel/__main__.py:13: FutureWarning: 'threshold_scale' default behavior has changed. Now you get a linear scale between the 'min' and the 'max' of your data. To get former behavior, use folium.utilities.split_six.\n"
     ]
    }
   ],
   "source": [
    "cantonMap = pd.DataFrame({'Canton':['JU', 'ZH', 'BE', 'LU', 'SG', 'NE', 'VD', 'VS', 'GE', 'TI', 'SO', 'UR', 'OW', 'NW', 'SZ', 'GL', 'ZG', 'BL', 'BS', 'FR', 'SH', 'AR', 'AI', 'GR', 'AG', 'TG']})\n",
    "cantonMap['Grants'] = 0\n",
    "cantonMap['Grants'] = cantonMap['Canton'].map(grant_per_canton)\n",
    "\n",
    "ch_geo = r'ch-cantons.topojson.json'\n",
    "\n",
    "map = folium.Map(location=[46.82244,8.22410], zoom_start=8)\n",
    "map.choropleth(data=cantonMap, \n",
    "                columns=['Canton', 'Grants'], \n",
    "                geo_path=ch_geo,\n",
    "                topojson='objects.cantons', \n",
    "                fill_color='YlGn', fill_opacity=0.7, line_opacity=0.2,\n",
    "                key_on='feature.id')\n",
    "map.save('ch-cantons.html')"
   ]
  },
  {
   "cell_type": "code",
   "execution_count": null,
   "metadata": {
    "collapsed": false
   },
   "outputs": [],
   "source": []
  },
  {
   "cell_type": "code",
   "execution_count": null,
   "metadata": {
    "collapsed": false
   },
   "outputs": [],
   "source": []
  },
  {
   "cell_type": "code",
   "execution_count": null,
   "metadata": {
    "collapsed": true
   },
   "outputs": [],
   "source": []
  }
 ],
 "metadata": {
  "anaconda-cloud": {},
  "kernelspec": {
   "display_name": "Python [Root]",
   "language": "python",
   "name": "Python [Root]"
  },
  "language_info": {
   "codemirror_mode": {
    "name": "ipython",
    "version": 3
   },
   "file_extension": ".py",
   "mimetype": "text/x-python",
   "name": "python",
   "nbconvert_exporter": "python",
   "pygments_lexer": "ipython3",
   "version": "3.5.2"
  }
 },
 "nbformat": 4,
 "nbformat_minor": 0
}
