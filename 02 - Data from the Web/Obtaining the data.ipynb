{
 "cells": [
  {
   "cell_type": "code",
   "execution_count": 103,
   "metadata": {
    "collapsed": false
   },
   "outputs": [],
   "source": [
    "%matplotlib inline\n",
    "import pandas as pd\n",
    "import numpy as np\n",
    "import matplotlib.pyplot as plt\n",
    "from bs4 import BeautifulSoup\n",
    "from lxml import etree\n",
    "import requests"
   ]
  },
  {
   "cell_type": "code",
   "execution_count": 104,
   "metadata": {
    "collapsed": false
   },
   "outputs": [
    {
     "name": "stdout",
     "output_type": "stream",
     "text": [
      "{'ww_x_PERIODE_PEDAGO': {'': 'null', 'Bachelor semestre 1': '249108', 'Bachelor semestre 6': '942175', 'Semestre automne': '953159', 'Master semestre 1': '2230106', 'Stage printemps 4ème année': '2226626', 'Stage automne 4ème année': '2226616', 'Master semestre 4': '2230140', 'Semestre printemps': '2754553', 'Projet Master automne': '249127', 'Bachelor semestre 5b': '2226768', 'Bachelor semestre 2': '249114', 'Mineur semestre 2': '2335676', 'Bachelor semestre 5': '942120', 'Bachelor semestre 3': '942155', 'Bachelor semestre 4': '942163', 'Bachelor semestre 6b': '2226785', 'Projet Master printemps': '3781783', 'Master semestre 2': '942192', 'Stage printemps master': '2227132', 'Stage automne 3ème année': '953137', 'Mineur semestre 1': '2335667', 'Stage printemps 3ème année': '983606', 'Mise à niveau': '2063602308', 'Master semestre 3': '2230128'}, 'ww_x_HIVERETE': {'': 'null', 'Semestre de printemps': '2936295', \"Semestre d'automne\": '2936286'}, 'ww_x_UNITE_ACAD': {'': 'null', 'Mathématiques': '944590', 'Microtechnique': '945244', 'Physique': '945571', 'Génie mécanique': '944263', 'Management de la technologie': '946882', 'Sciences et technologies du vivant': '945901', 'Informatique': '249847', 'Cours de mathématiques spéciales': '943282', 'Génie électrique et électronique ': '943936', 'Systèmes de communication': '946228', 'Humanités digitales': '2054839157', 'EME (EPFL Middle East)': '637841336', 'Chimie et génie chimique': '246696', 'Génie civil': '942623', 'Ingénierie financière': '120623110', 'Section FCUE': '1574548993', \"Sciences et ingénierie de l'environnement\": '942953', 'Architecture': '942293', 'Science et génie des matériaux': '944917'}, 'ww_x_PERIODE_ACAD': {'': 'null', '2013-2014': '213637754', '2016-2017': '355925344', '2011-2012': '123455150', '2015-2016': '213638028', '2012-2013': '123456101', '2014-2015': '213637922', '2008-2009': '978187', '2009-2010': '978195', '2007-2008': '978181', '2010-2011': '39486325'}}\n"
     ]
    }
   ],
   "source": [
    "headers = {\n",
    "    'x-devtools-emulate-network-conditions-client-id': \"c60c3ba6-26e8-45ce-9f9f-0b5521437cf6\",\n",
    "    'upgrade-insecure-requests': \"1\",\n",
    "    'user-agent': \"Mozilla/5.0 (Macintosh; Intel Mac OS X 10_11_5) AppleWebKit/537.36 (KHTML, like Gecko) Chrome/53.0.2785.143 Safari/537.36\",\n",
    "    'accept': \"text/html,application/xhtml+xml,application/xml;q=0.9,image/webp,*/*;q=0.8\",\n",
    "    'referer': \"http://isa.epfl.ch/imoniteur_ISAP/%21gedpublicreports.htm?ww_i_reportmodel=133685247\",\n",
    "    'accept-encoding': \"gzip, deflate, sdch\",\n",
    "    'accept-language': \"es-ES,es;q=0.8\",\n",
    "    'cookie': \"LANGUE_LOGIN=fr\",\n",
    "    'cache-control': \"no-cache\"\n",
    "}\n",
    "\n",
    "data = requests.get(\"http://isa.epfl.ch/imoniteur_ISAP/!GEDPUBLICREPORTS.filter?ww_i_reportModel=133685247\", headers=headers)\n",
    "\n",
    "soup = BeautifulSoup(data.content, 'html.parser')\n",
    "queries = soup.find_all('select')\n",
    "queries_map = {}\n",
    "for s in queries:\n",
    "    queries_map[s.get('name')] = {}\n",
    "    map = queries_map[s.get('name')]\n",
    "    options = s.find_all('option')\n",
    "    for o in options:\n",
    "        if not o.string:\n",
    "            value = \"\"\n",
    "        else:\n",
    "            value = o.string\n",
    "        map[value] = o.get('value')\n",
    "\n",
    "print(queries_map)"
   ]
  },
  {
   "cell_type": "code",
   "execution_count": 154,
   "metadata": {
    "collapsed": false
   },
   "outputs": [],
   "source": [
    "def getData(unite_acad, periode_acad, periode_pedago, semester_type):\n",
    "    payload = {'ww_x_GPS': 71297569,\n",
    "               'ww_i_reportModel':133685247, \n",
    "               'ww_i_reportModelXsl': 133685271,\n",
    "               'ww_x_UNITE_ACAD': unite_acad,\n",
    "               'ww_x_PERIODE_ACAD': periode_acad,\n",
    "               'ww_x_PERIODE_PEDAGO': periode_pedago,\n",
    "               'ww_x_HIVERETE': semester_type\n",
    "              }\n",
    "    r = requests.get(\"http://isa.epfl.ch/imoniteur_ISAP/!GEDPUBLICREPORTS.XLS\", params=payload)\n",
    "    return r.text"
   ]
  },
  {
   "cell_type": "code",
   "execution_count": 177,
   "metadata": {
    "collapsed": false
   },
   "outputs": [],
   "source": [
    "df_final = None\n",
    "df_year = None\n",
    "\n",
    "def addData(unite_acad, periode_acad, periode_pedago, semester_type, list_semesters):\n",
    "    unite_acad_id = queries_map['ww_x_UNITE_ACAD'][unite_acad]\n",
    "    periode_acad_id = queries_map['ww_x_PERIODE_ACAD'][periode_acad]\n",
    "    periode_pedago_id = queries_map['ww_x_PERIODE_PEDAGO'][periode_pedago]\n",
    "    semester_type_id = queries_map['ww_x_HIVERETE'][semester_type]\n",
    "\n",
    "    \n",
    "    soup = BeautifulSoup(getData(unite_acad_id,periode_acad_id,periode_pedago_id,semester_type_id), 'html.parser')\n",
    "    rows = soup.find_all('tr')\n",
    "    print(rows)\n",
    "    header_cols = rows[2].find_all('th')\n",
    "    col_titles, data = [], {}\n",
    "    for c in header_cols:\n",
    "        data[c.string] = []\n",
    "        col_titles.append(c.string)\n",
    "    [col_titles.append(semestre[9:]) for semestre in list_semesters]\n",
    "    for semestre in list_semesters:\n",
    "        data[semestre[9:]] = [ None ] * ( len(rows) - 3)\n",
    "    df = pd.DataFrame(columns=col_titles)\n",
    "    global df_final, df_year\n",
    "    if df_final is None:\n",
    "        df_final = df.copy()\n",
    "    if df_year is None:\n",
    "        df_year = df.copy()\n",
    "    \n",
    "    \n",
    "    for h in range(3, len(rows)):\n",
    "        values = rows[h].find_all('td')\n",
    "        for v in range(len(values)-2):\n",
    "            data[header_cols[v].string].append(values[v].string)\n",
    "        data[periode_pedago[9:]] = int(periode_acad[:-5])\n",
    "    df = pd.DataFrame.from_dict(data)\n",
    "    return df\n",
    "\n"
   ]
  },
  {
   "cell_type": "code",
   "execution_count": 178,
   "metadata": {
    "collapsed": false
   },
   "outputs": [
    {
     "name": "stdout",
     "output_type": "stream",
     "text": [
      "[<tr><th colspan=\"10\">\n",
      "    Ces listes d'étudiants ne seront définitives qu'ŕ la mi-aoűt une fois la commission d'admission bachelor et la conférence d'examen passées afin de s'assurer que tous les étudiants nouvellement admis ŕ l'EPFL y figurent et que les étudiants en situation d'échec définitif soient rayés de ces listes\n",
      "   </th></tr>]\n"
     ]
    },
    {
     "ename": "IndexError",
     "evalue": "list index out of range",
     "output_type": "error",
     "traceback": [
      "\u001b[0;31m---------------------------------------------------------------------------\u001b[0m",
      "\u001b[0;31mIndexError\u001b[0m                                Traceback (most recent call last)",
      "\u001b[0;32m<ipython-input-178-7ec395af03b6>\u001b[0m in \u001b[0;36m<module>\u001b[0;34m()\u001b[0m\n\u001b[1;32m      9\u001b[0m         \u001b[0mperiode_pedago\u001b[0m\u001b[0;34m.\u001b[0m\u001b[0mappend\u001b[0m\u001b[0;34m(\u001b[0m\u001b[0mp\u001b[0m\u001b[0;34m)\u001b[0m\u001b[0;34m\u001b[0m\u001b[0m\n\u001b[1;32m     10\u001b[0m \u001b[0;32mfor\u001b[0m \u001b[0mi\u001b[0m \u001b[0;32min\u001b[0m \u001b[0mrange\u001b[0m\u001b[0;34m(\u001b[0m\u001b[0;36m4\u001b[0m\u001b[0;34m,\u001b[0m\u001b[0;36m5\u001b[0m\u001b[0;34m)\u001b[0m\u001b[0;34m:\u001b[0m\u001b[0;34m\u001b[0m\u001b[0m\n\u001b[0;32m---> 11\u001b[0;31m     \u001b[0ma\u001b[0m \u001b[0;34m=\u001b[0m \u001b[0maddData\u001b[0m\u001b[0;34m(\u001b[0m\u001b[0;34m\"Informatique\"\u001b[0m\u001b[0;34m,\u001b[0m \u001b[0;34m\"2008-2009\"\u001b[0m\u001b[0;34m,\u001b[0m \u001b[0;34m\"Bachelor semestre \"\u001b[0m \u001b[0;34m+\u001b[0m \u001b[0mstr\u001b[0m\u001b[0;34m(\u001b[0m\u001b[0mi\u001b[0m\u001b[0;34m)\u001b[0m\u001b[0;34m,\u001b[0m \u001b[0;34m\"\"\u001b[0m\u001b[0;34m,\u001b[0m \u001b[0msorted\u001b[0m\u001b[0;34m(\u001b[0m\u001b[0mperiode_pedago\u001b[0m\u001b[0;34m)\u001b[0m\u001b[0;34m)\u001b[0m\u001b[0;34m\u001b[0m\u001b[0m\n\u001b[0m\u001b[1;32m     12\u001b[0m     \u001b[0mdf_year\u001b[0m \u001b[0;34m=\u001b[0m \u001b[0ma\u001b[0m\u001b[0;34m.\u001b[0m\u001b[0mcombine_first\u001b[0m\u001b[0;34m(\u001b[0m\u001b[0mdf_year\u001b[0m\u001b[0;34m)\u001b[0m\u001b[0;34m\u001b[0m\u001b[0m\n\u001b[1;32m     13\u001b[0m \u001b[0mdf_year\u001b[0m\u001b[0;34m\u001b[0m\u001b[0m\n",
      "\u001b[0;32m<ipython-input-177-d6a906c854c9>\u001b[0m in \u001b[0;36maddData\u001b[0;34m(unite_acad, periode_acad, periode_pedago, semester_type, list_semesters)\u001b[0m\n\u001b[1;32m     12\u001b[0m     \u001b[0mrows\u001b[0m \u001b[0;34m=\u001b[0m \u001b[0msoup\u001b[0m\u001b[0;34m.\u001b[0m\u001b[0mfind_all\u001b[0m\u001b[0;34m(\u001b[0m\u001b[0;34m'tr'\u001b[0m\u001b[0;34m)\u001b[0m\u001b[0;34m\u001b[0m\u001b[0m\n\u001b[1;32m     13\u001b[0m     \u001b[0mprint\u001b[0m\u001b[0;34m(\u001b[0m\u001b[0mrows\u001b[0m\u001b[0;34m)\u001b[0m\u001b[0;34m\u001b[0m\u001b[0m\n\u001b[0;32m---> 14\u001b[0;31m     \u001b[0mheader_cols\u001b[0m \u001b[0;34m=\u001b[0m \u001b[0mrows\u001b[0m\u001b[0;34m[\u001b[0m\u001b[0;36m2\u001b[0m\u001b[0;34m]\u001b[0m\u001b[0;34m.\u001b[0m\u001b[0mfind_all\u001b[0m\u001b[0;34m(\u001b[0m\u001b[0;34m'th'\u001b[0m\u001b[0;34m)\u001b[0m\u001b[0;34m\u001b[0m\u001b[0m\n\u001b[0m\u001b[1;32m     15\u001b[0m     \u001b[0mcol_titles\u001b[0m\u001b[0;34m,\u001b[0m \u001b[0mdata\u001b[0m \u001b[0;34m=\u001b[0m \u001b[0;34m[\u001b[0m\u001b[0;34m]\u001b[0m\u001b[0;34m,\u001b[0m \u001b[0;34m{\u001b[0m\u001b[0;34m}\u001b[0m\u001b[0;34m\u001b[0m\u001b[0m\n\u001b[1;32m     16\u001b[0m     \u001b[0;32mfor\u001b[0m \u001b[0mc\u001b[0m \u001b[0;32min\u001b[0m \u001b[0mheader_cols\u001b[0m\u001b[0;34m:\u001b[0m\u001b[0;34m\u001b[0m\u001b[0m\n",
      "\u001b[0;31mIndexError\u001b[0m: list index out of range"
     ]
    }
   ],
   "source": [
    "df_final = None\n",
    "df_year = None\n",
    "unite_acad = \"Informatique\"\n",
    "periode_acad = list(queries_map['ww_x_PERIODE_ACAD'].keys())\n",
    "periode_acad.remove('')\n",
    "periode_pedago = []\n",
    "for p in list(queries_map['ww_x_PERIODE_PEDAGO'].keys()):\n",
    "    if 'Bachelor' in p and \"b\" not in p:\n",
    "        periode_pedago.append(p)\n",
    "for i in range(4,5):\n",
    "    a = addData(\"Informatique\", \"2008-2009\", \"Bachelor semestre \" + str(i), \"\", sorted(periode_pedago))\n",
    "    df_year = a.combine_first(df_year)\n",
    "df_year"
   ]
  },
  {
   "cell_type": "code",
   "execution_count": null,
   "metadata": {
    "collapsed": true
   },
   "outputs": [],
   "source": []
  },
  {
   "cell_type": "code",
   "execution_count": null,
   "metadata": {
    "collapsed": true
   },
   "outputs": [],
   "source": []
  }
 ],
 "metadata": {
  "anaconda-cloud": {},
  "kernelspec": {
   "display_name": "Python [Root]",
   "language": "python",
   "name": "Python [Root]"
  },
  "language_info": {
   "codemirror_mode": {
    "name": "ipython",
    "version": 3
   },
   "file_extension": ".py",
   "mimetype": "text/x-python",
   "name": "python",
   "nbconvert_exporter": "python",
   "pygments_lexer": "ipython3",
   "version": "3.5.2"
  }
 },
 "nbformat": 4,
 "nbformat_minor": 0
}
